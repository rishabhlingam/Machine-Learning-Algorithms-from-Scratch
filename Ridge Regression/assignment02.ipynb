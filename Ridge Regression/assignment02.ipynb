{
 "cells": [
  {
   "cell_type": "markdown",
   "id": "2934cf08",
   "metadata": {},
   "source": [
    "# Programming Assignment - 02\n",
    "                                                                                              Rishabh Lingam"
   ]
  },
  {
   "cell_type": "markdown",
   "id": "b1db622c",
   "metadata": {},
   "source": [
    "## Deliverable 5"
   ]
  },
  {
   "cell_type": "code",
   "execution_count": 1,
   "id": "2bd61b12",
   "metadata": {},
   "outputs": [],
   "source": [
    "import random\n",
    "import pandas as pd\n",
    "import numpy as np\n",
    "import matplotlib.pyplot as plt\n",
    "import seaborn as sns\n",
    "\n",
    "%matplotlib inline\n",
    "plt.rcParams.update({'font.size': 14})"
   ]
  },
  {
   "cell_type": "code",
   "execution_count": 2,
   "id": "d1371742",
   "metadata": {},
   "outputs": [
    {
     "name": "stdout",
     "output_type": "stream",
     "text": [
      "shape: (400, 10)\n"
     ]
    }
   ],
   "source": [
    "credit_data = pd.read_csv('Credit_N400_p9.csv')\n",
    "print(\"shape: {}\".format(credit_data.shape))"
   ]
  },
  {
   "cell_type": "code",
   "execution_count": 3,
   "id": "7395709b",
   "metadata": {},
   "outputs": [
    {
     "data": {
      "text/html": [
       "<div>\n",
       "<style scoped>\n",
       "    .dataframe tbody tr th:only-of-type {\n",
       "        vertical-align: middle;\n",
       "    }\n",
       "\n",
       "    .dataframe tbody tr th {\n",
       "        vertical-align: top;\n",
       "    }\n",
       "\n",
       "    .dataframe thead th {\n",
       "        text-align: right;\n",
       "    }\n",
       "</style>\n",
       "<table border=\"1\" class=\"dataframe\">\n",
       "  <thead>\n",
       "    <tr style=\"text-align: right;\">\n",
       "      <th></th>\n",
       "      <th>Income</th>\n",
       "      <th>Limit</th>\n",
       "      <th>Rating</th>\n",
       "      <th>Cards</th>\n",
       "      <th>Age</th>\n",
       "      <th>Education</th>\n",
       "      <th>Gender</th>\n",
       "      <th>Student</th>\n",
       "      <th>Married</th>\n",
       "      <th>Balance</th>\n",
       "    </tr>\n",
       "  </thead>\n",
       "  <tbody>\n",
       "    <tr>\n",
       "      <th>0</th>\n",
       "      <td>14.891</td>\n",
       "      <td>3606</td>\n",
       "      <td>283</td>\n",
       "      <td>2</td>\n",
       "      <td>34</td>\n",
       "      <td>11</td>\n",
       "      <td>Male</td>\n",
       "      <td>No</td>\n",
       "      <td>Yes</td>\n",
       "      <td>333</td>\n",
       "    </tr>\n",
       "    <tr>\n",
       "      <th>1</th>\n",
       "      <td>106.025</td>\n",
       "      <td>6645</td>\n",
       "      <td>483</td>\n",
       "      <td>3</td>\n",
       "      <td>82</td>\n",
       "      <td>15</td>\n",
       "      <td>Female</td>\n",
       "      <td>Yes</td>\n",
       "      <td>Yes</td>\n",
       "      <td>903</td>\n",
       "    </tr>\n",
       "    <tr>\n",
       "      <th>2</th>\n",
       "      <td>104.593</td>\n",
       "      <td>7075</td>\n",
       "      <td>514</td>\n",
       "      <td>4</td>\n",
       "      <td>71</td>\n",
       "      <td>11</td>\n",
       "      <td>Male</td>\n",
       "      <td>No</td>\n",
       "      <td>No</td>\n",
       "      <td>580</td>\n",
       "    </tr>\n",
       "    <tr>\n",
       "      <th>3</th>\n",
       "      <td>148.924</td>\n",
       "      <td>9504</td>\n",
       "      <td>681</td>\n",
       "      <td>3</td>\n",
       "      <td>36</td>\n",
       "      <td>11</td>\n",
       "      <td>Female</td>\n",
       "      <td>No</td>\n",
       "      <td>No</td>\n",
       "      <td>964</td>\n",
       "    </tr>\n",
       "    <tr>\n",
       "      <th>4</th>\n",
       "      <td>55.882</td>\n",
       "      <td>4897</td>\n",
       "      <td>357</td>\n",
       "      <td>2</td>\n",
       "      <td>68</td>\n",
       "      <td>16</td>\n",
       "      <td>Male</td>\n",
       "      <td>No</td>\n",
       "      <td>Yes</td>\n",
       "      <td>331</td>\n",
       "    </tr>\n",
       "  </tbody>\n",
       "</table>\n",
       "</div>"
      ],
      "text/plain": [
       "    Income  Limit  Rating  Cards  Age  Education  Gender Student Married  \\\n",
       "0   14.891   3606     283      2   34         11    Male      No     Yes   \n",
       "1  106.025   6645     483      3   82         15  Female     Yes     Yes   \n",
       "2  104.593   7075     514      4   71         11    Male      No      No   \n",
       "3  148.924   9504     681      3   36         11  Female      No      No   \n",
       "4   55.882   4897     357      2   68         16    Male      No     Yes   \n",
       "\n",
       "   Balance  \n",
       "0      333  \n",
       "1      903  \n",
       "2      580  \n",
       "3      964  \n",
       "4      331  "
      ]
     },
     "execution_count": 3,
     "metadata": {},
     "output_type": "execute_result"
    }
   ],
   "source": [
    "credit_data.head()"
   ]
  },
  {
   "cell_type": "code",
   "execution_count": 4,
   "id": "392c8aab",
   "metadata": {},
   "outputs": [],
   "source": [
    "all_features = credit_data.columns[:-1]\n",
    "prediction_variable =  credit_data.columns[-1]\n",
    "quantitative_features = all_features[0:6]\n",
    "qualitative_features = all_features[6:]\n",
    "p = len(all_features)"
   ]
  },
  {
   "cell_type": "code",
   "execution_count": 5,
   "id": "e90cab73",
   "metadata": {
    "scrolled": false
   },
   "outputs": [
    {
     "data": {
      "text/html": [
       "<div>\n",
       "<style scoped>\n",
       "    .dataframe tbody tr th:only-of-type {\n",
       "        vertical-align: middle;\n",
       "    }\n",
       "\n",
       "    .dataframe tbody tr th {\n",
       "        vertical-align: top;\n",
       "    }\n",
       "\n",
       "    .dataframe thead th {\n",
       "        text-align: right;\n",
       "    }\n",
       "</style>\n",
       "<table border=\"1\" class=\"dataframe\">\n",
       "  <thead>\n",
       "    <tr style=\"text-align: right;\">\n",
       "      <th></th>\n",
       "      <th>Income</th>\n",
       "      <th>Limit</th>\n",
       "      <th>Rating</th>\n",
       "      <th>Cards</th>\n",
       "      <th>Age</th>\n",
       "      <th>Education</th>\n",
       "      <th>Gender</th>\n",
       "      <th>Student</th>\n",
       "      <th>Married</th>\n",
       "      <th>Balance</th>\n",
       "    </tr>\n",
       "  </thead>\n",
       "  <tbody>\n",
       "    <tr>\n",
       "      <th>0</th>\n",
       "      <td>14.891</td>\n",
       "      <td>3606</td>\n",
       "      <td>283</td>\n",
       "      <td>2</td>\n",
       "      <td>34</td>\n",
       "      <td>11</td>\n",
       "      <td>Male</td>\n",
       "      <td>No</td>\n",
       "      <td>Yes</td>\n",
       "      <td>333</td>\n",
       "    </tr>\n",
       "    <tr>\n",
       "      <th>1</th>\n",
       "      <td>106.025</td>\n",
       "      <td>6645</td>\n",
       "      <td>483</td>\n",
       "      <td>3</td>\n",
       "      <td>82</td>\n",
       "      <td>15</td>\n",
       "      <td>Female</td>\n",
       "      <td>Yes</td>\n",
       "      <td>Yes</td>\n",
       "      <td>903</td>\n",
       "    </tr>\n",
       "    <tr>\n",
       "      <th>2</th>\n",
       "      <td>104.593</td>\n",
       "      <td>7075</td>\n",
       "      <td>514</td>\n",
       "      <td>4</td>\n",
       "      <td>71</td>\n",
       "      <td>11</td>\n",
       "      <td>Male</td>\n",
       "      <td>No</td>\n",
       "      <td>No</td>\n",
       "      <td>580</td>\n",
       "    </tr>\n",
       "    <tr>\n",
       "      <th>3</th>\n",
       "      <td>148.924</td>\n",
       "      <td>9504</td>\n",
       "      <td>681</td>\n",
       "      <td>3</td>\n",
       "      <td>36</td>\n",
       "      <td>11</td>\n",
       "      <td>Female</td>\n",
       "      <td>No</td>\n",
       "      <td>No</td>\n",
       "      <td>964</td>\n",
       "    </tr>\n",
       "    <tr>\n",
       "      <th>4</th>\n",
       "      <td>55.882</td>\n",
       "      <td>4897</td>\n",
       "      <td>357</td>\n",
       "      <td>2</td>\n",
       "      <td>68</td>\n",
       "      <td>16</td>\n",
       "      <td>Male</td>\n",
       "      <td>No</td>\n",
       "      <td>Yes</td>\n",
       "      <td>331</td>\n",
       "    </tr>\n",
       "  </tbody>\n",
       "</table>\n",
       "</div>"
      ],
      "text/plain": [
       "    Income  Limit  Rating  Cards  Age  Education  Gender Student Married  \\\n",
       "0   14.891   3606     283      2   34         11    Male      No     Yes   \n",
       "1  106.025   6645     483      3   82         15  Female     Yes     Yes   \n",
       "2  104.593   7075     514      4   71         11    Male      No      No   \n",
       "3  148.924   9504     681      3   36         11  Female      No      No   \n",
       "4   55.882   4897     357      2   68         16    Male      No     Yes   \n",
       "\n",
       "   Balance  \n",
       "0      333  \n",
       "1      903  \n",
       "2      580  \n",
       "3      964  \n",
       "4      331  "
      ]
     },
     "execution_count": 5,
     "metadata": {},
     "output_type": "execute_result"
    }
   ],
   "source": [
    "credit_data.head()"
   ]
  },
  {
   "cell_type": "code",
   "execution_count": 6,
   "id": "7dc6c8c1",
   "metadata": {
    "scrolled": true
   },
   "outputs": [
    {
     "data": {
      "text/html": [
       "<div>\n",
       "<style scoped>\n",
       "    .dataframe tbody tr th:only-of-type {\n",
       "        vertical-align: middle;\n",
       "    }\n",
       "\n",
       "    .dataframe tbody tr th {\n",
       "        vertical-align: top;\n",
       "    }\n",
       "\n",
       "    .dataframe thead th {\n",
       "        text-align: right;\n",
       "    }\n",
       "</style>\n",
       "<table border=\"1\" class=\"dataframe\">\n",
       "  <thead>\n",
       "    <tr style=\"text-align: right;\">\n",
       "      <th></th>\n",
       "      <th>Income</th>\n",
       "      <th>Limit</th>\n",
       "      <th>Rating</th>\n",
       "      <th>Cards</th>\n",
       "      <th>Age</th>\n",
       "      <th>Education</th>\n",
       "      <th>Gender</th>\n",
       "      <th>Student</th>\n",
       "      <th>Married</th>\n",
       "      <th>Balance</th>\n",
       "    </tr>\n",
       "  </thead>\n",
       "  <tbody>\n",
       "    <tr>\n",
       "      <th>count</th>\n",
       "      <td>400.000000</td>\n",
       "      <td>400.000000</td>\n",
       "      <td>400.000000</td>\n",
       "      <td>400.000000</td>\n",
       "      <td>400.000000</td>\n",
       "      <td>400.000000</td>\n",
       "      <td>400.000000</td>\n",
       "      <td>400.000000</td>\n",
       "      <td>400.00000</td>\n",
       "      <td>400.000000</td>\n",
       "    </tr>\n",
       "    <tr>\n",
       "      <th>mean</th>\n",
       "      <td>45.218885</td>\n",
       "      <td>4735.600000</td>\n",
       "      <td>354.940000</td>\n",
       "      <td>2.957500</td>\n",
       "      <td>55.667500</td>\n",
       "      <td>13.450000</td>\n",
       "      <td>0.517500</td>\n",
       "      <td>0.100000</td>\n",
       "      <td>0.38750</td>\n",
       "      <td>520.015000</td>\n",
       "    </tr>\n",
       "    <tr>\n",
       "      <th>std</th>\n",
       "      <td>35.244273</td>\n",
       "      <td>2308.198848</td>\n",
       "      <td>154.724143</td>\n",
       "      <td>1.371275</td>\n",
       "      <td>17.249807</td>\n",
       "      <td>3.125207</td>\n",
       "      <td>0.500319</td>\n",
       "      <td>0.300376</td>\n",
       "      <td>0.48779</td>\n",
       "      <td>459.758877</td>\n",
       "    </tr>\n",
       "    <tr>\n",
       "      <th>min</th>\n",
       "      <td>10.354000</td>\n",
       "      <td>855.000000</td>\n",
       "      <td>93.000000</td>\n",
       "      <td>1.000000</td>\n",
       "      <td>23.000000</td>\n",
       "      <td>5.000000</td>\n",
       "      <td>0.000000</td>\n",
       "      <td>0.000000</td>\n",
       "      <td>0.00000</td>\n",
       "      <td>0.000000</td>\n",
       "    </tr>\n",
       "    <tr>\n",
       "      <th>25%</th>\n",
       "      <td>21.007250</td>\n",
       "      <td>3088.000000</td>\n",
       "      <td>247.250000</td>\n",
       "      <td>2.000000</td>\n",
       "      <td>41.750000</td>\n",
       "      <td>11.000000</td>\n",
       "      <td>0.000000</td>\n",
       "      <td>0.000000</td>\n",
       "      <td>0.00000</td>\n",
       "      <td>68.750000</td>\n",
       "    </tr>\n",
       "    <tr>\n",
       "      <th>50%</th>\n",
       "      <td>33.115500</td>\n",
       "      <td>4622.500000</td>\n",
       "      <td>344.000000</td>\n",
       "      <td>3.000000</td>\n",
       "      <td>56.000000</td>\n",
       "      <td>14.000000</td>\n",
       "      <td>1.000000</td>\n",
       "      <td>0.000000</td>\n",
       "      <td>0.00000</td>\n",
       "      <td>459.500000</td>\n",
       "    </tr>\n",
       "    <tr>\n",
       "      <th>75%</th>\n",
       "      <td>57.470750</td>\n",
       "      <td>5872.750000</td>\n",
       "      <td>437.250000</td>\n",
       "      <td>4.000000</td>\n",
       "      <td>70.000000</td>\n",
       "      <td>16.000000</td>\n",
       "      <td>1.000000</td>\n",
       "      <td>0.000000</td>\n",
       "      <td>1.00000</td>\n",
       "      <td>863.000000</td>\n",
       "    </tr>\n",
       "    <tr>\n",
       "      <th>max</th>\n",
       "      <td>186.634000</td>\n",
       "      <td>13913.000000</td>\n",
       "      <td>982.000000</td>\n",
       "      <td>9.000000</td>\n",
       "      <td>98.000000</td>\n",
       "      <td>20.000000</td>\n",
       "      <td>1.000000</td>\n",
       "      <td>1.000000</td>\n",
       "      <td>1.00000</td>\n",
       "      <td>1999.000000</td>\n",
       "    </tr>\n",
       "  </tbody>\n",
       "</table>\n",
       "</div>"
      ],
      "text/plain": [
       "           Income         Limit      Rating       Cards         Age  \\\n",
       "count  400.000000    400.000000  400.000000  400.000000  400.000000   \n",
       "mean    45.218885   4735.600000  354.940000    2.957500   55.667500   \n",
       "std     35.244273   2308.198848  154.724143    1.371275   17.249807   \n",
       "min     10.354000    855.000000   93.000000    1.000000   23.000000   \n",
       "25%     21.007250   3088.000000  247.250000    2.000000   41.750000   \n",
       "50%     33.115500   4622.500000  344.000000    3.000000   56.000000   \n",
       "75%     57.470750   5872.750000  437.250000    4.000000   70.000000   \n",
       "max    186.634000  13913.000000  982.000000    9.000000   98.000000   \n",
       "\n",
       "        Education      Gender     Student    Married      Balance  \n",
       "count  400.000000  400.000000  400.000000  400.00000   400.000000  \n",
       "mean    13.450000    0.517500    0.100000    0.38750   520.015000  \n",
       "std      3.125207    0.500319    0.300376    0.48779   459.758877  \n",
       "min      5.000000    0.000000    0.000000    0.00000     0.000000  \n",
       "25%     11.000000    0.000000    0.000000    0.00000    68.750000  \n",
       "50%     14.000000    1.000000    0.000000    0.00000   459.500000  \n",
       "75%     16.000000    1.000000    0.000000    1.00000   863.000000  \n",
       "max     20.000000    1.000000    1.000000    1.00000  1999.000000  "
      ]
     },
     "execution_count": 6,
     "metadata": {},
     "output_type": "execute_result"
    }
   ],
   "source": [
    "# converting qualitative features into numerical values.\n",
    "for feature in qualitative_features:\n",
    "    credit_data[feature].replace(credit_data[feature].unique(), range(credit_data[feature].nunique()), inplace=True)\n",
    "\n",
    "credit_data.describe()"
   ]
  },
  {
   "cell_type": "code",
   "execution_count": 7,
   "id": "dbc6104c",
   "metadata": {},
   "outputs": [],
   "source": [
    "X = credit_data[all_features].to_numpy()\n",
    "N, p = X.shape\n",
    "Y = credit_data[prediction_variable].to_numpy().reshape(N, 1)"
   ]
  },
  {
   "cell_type": "code",
   "execution_count": 8,
   "id": "b8d540b3",
   "metadata": {},
   "outputs": [],
   "source": [
    "# utility methods\n",
    "\n",
    "def error(X, Y, beta):\n",
    "    return Y - np.matmul(X, beta)\n",
    "\n",
    "def residual_sum_squares(X, Y, beta):\n",
    "    e = error(X, Y, beta)\n",
    "    return np.matmul(e.T, e)\n",
    "\n",
    "def mean_squared_error(X, Y, beta):\n",
    "    return residual_sum_squares(X, Y, beta) / len(X)\n",
    "\n",
    "def standardize_data(data):\n",
    "    rows, cols = data.shape\n",
    "    for i in range(cols):\n",
    "        data[:,i] = (data[:,i] - (data[:,i].mean())) / data[:,i].std()\n",
    "    return data\n",
    "\n",
    "def centralize_data(data):\n",
    "    rows, cols = data.shape\n",
    "    for i in range(cols):\n",
    "        data[:,i] = (data[:,i] - (data[:,i].mean()))\n",
    "    return data"
   ]
  },
  {
   "cell_type": "code",
   "execution_count": 9,
   "id": "5975dbad",
   "metadata": {},
   "outputs": [],
   "source": [
    "# ridge regression\n",
    "\n",
    "def ridge_regression(X, Y, learn_rate, penalty, max_itr):\n",
    "    max_itr = 100000\n",
    "    beta = np.random.rand(p).reshape(p, 1)\n",
    "    for i in range(max_itr):\n",
    "        e = error(X, Y, beta)\n",
    "        partial_derv = -2 * (np.matmul(X.T, e) - (penalty * beta))\n",
    "        beta = beta + ((-learn_rate) * partial_derv)\n",
    "        beta = np.round(beta ,3)\n",
    "    \n",
    "    return beta"
   ]
  },
  {
   "cell_type": "code",
   "execution_count": 10,
   "id": "6a117e9b",
   "metadata": {},
   "outputs": [
    {
     "name": "stdout",
     "output_type": "stream",
     "text": [
      "Penalty Value->  0.01\n",
      "CV(5) Error->  [10509.348]\n",
      "\n",
      "Penalty Value->  0.1\n",
      "CV(5) Error->  [10504.907]\n",
      "\n",
      "Penalty Value->  1\n",
      "CV(5) Error->  [10477.88]\n",
      "\n",
      "Penalty Value->  10\n",
      "CV(5) Error->  [11020.622]\n",
      "\n",
      "Penalty Value->  100\n",
      "CV(5) Error->  [29339.893]\n",
      "\n",
      "Penalty Value->  1000\n",
      "CV(5) Error->  [103524.54]\n",
      "\n",
      "Penalty Value->  10000\n",
      "CV(5) Error->  [185872.211]\n",
      "\n"
     ]
    }
   ],
   "source": [
    "# k-fold cross validation\n",
    "\n",
    "N, p = X.shape\n",
    "k = 5\n",
    "batch_size = len(X) // k\n",
    "penalty_values = [0.01, 0.1, 1, 10, 100, 1000, 10000]\n",
    "learn_rate = 0.00001\n",
    "max_itr = 100000\n",
    "beta_values = np.zeros((len(penalty_values), p))\n",
    "mse_values = np.zeros((len(penalty_values), 1))\n",
    "\n",
    "for j in range(len(penalty_values)):\n",
    "    penalty = penalty_values[j]\n",
    "    print(\"Penalty Value-> \", penalty)\n",
    "    start = 0\n",
    "    mse_s = []\n",
    "    beta = 0\n",
    "    \n",
    "    # iterating for k folds\n",
    "    for i in range(k):\n",
    "        # seperating indices for training and validation.\n",
    "        val_idx = range(start, start + batch_size)\n",
    "        train_idx = [(i not in val_idx) for i in range(len(X))]\n",
    "        \n",
    "        # standardizing input and centralizing output before regression.\n",
    "        beta = ridge_regression(standardize_data(X[train_idx]), centralize_data(Y[train_idx]), learn_rate, penalty, max_itr)\n",
    "        mse = mean_squared_error(standardize_data(X[val_idx]), centralize_data(Y[val_idx]), beta)\n",
    "        \n",
    "        mse_s.append(mse)\n",
    "        start = start + batch_size\n",
    "    \n",
    "    beta_values[j] = np.round(beta.T, 3)\n",
    "    mse_values[j] = np.round(np.average(mse_s), 3)\n",
    "    print(\"CV(5) Error-> \", mse_values[j])\n",
    "    print()"
   ]
  },
  {
   "cell_type": "markdown",
   "id": "c17e699e",
   "metadata": {},
   "source": [
    "## Deliverable 3"
   ]
  },
  {
   "cell_type": "markdown",
   "id": "ef16cb90",
   "metadata": {},
   "source": [
    "Smallest CV(5) error is generated by penalty = 1. Hence, it is the best-fit tuning parameter!"
   ]
  },
  {
   "cell_type": "markdown",
   "id": "2e871a4a",
   "metadata": {},
   "source": [
    "## Deliverable 1"
   ]
  },
  {
   "cell_type": "code",
   "execution_count": 11,
   "id": "d31f52d8",
   "metadata": {},
   "outputs": [
    {
     "data": {
      "image/png": "[encoded data removed]",
      "text/plain": [
       "<Figure size 1440x576 with 1 Axes>"
      ]
     },
     "metadata": {
      "needs_background": "light"
     },
     "output_type": "display_data"
    }
   ],
   "source": [
    "plt.figure(figsize=(20,8))\n",
    "\n",
    "for i in range(p):\n",
    "    plt.plot(beta_values[:,i], label = all_features[i])\n",
    "\n",
    "plt.xlabel('penatly values')\n",
    "plt.ylabel('beta values')\n",
    "xlabels = [str(i) for i in penalty_values]\n",
    "plt.xticks(range(len(xlabels)), xlabels)\n",
    "plt.legend()\n",
    "plt.grid(True)\n",
    "plt.show()"
   ]
  },
  {
   "cell_type": "markdown",
   "id": "7a2b9708",
   "metadata": {},
   "source": [
    "## Deliverable 2"
   ]
  },
  {
   "cell_type": "code",
   "execution_count": 12,
   "id": "735a2d11",
   "metadata": {
    "scrolled": false
   },
   "outputs": [
    {
     "data": {
      "image/png": "[encoded data removed]",
      "text/plain": [
       "<Figure size 1440x576 with 1 Axes>"
      ]
     },
     "metadata": {
      "needs_background": "light"
     },
     "output_type": "display_data"
    }
   ],
   "source": [
    "plt.figure(figsize=(20,8))\n",
    "\n",
    "plt.plot(mse_values, label = \"CV(5)\")\n",
    "\n",
    "plt.xlabel('penatly values')\n",
    "plt.ylabel('Cross-Validation Error')\n",
    "xlabels = [str(i) for i in penalty_values]\n",
    "plt.xticks(range(len(xlabels)), xlabels)\n",
    "plt.legend()\n",
    "plt.grid(True)\n",
    "plt.show()"
   ]
  },
  {
   "cell_type": "markdown",
   "id": "cec5458a",
   "metadata": {},
   "source": [
    "## Deliverable 4"
   ]
  },
  {
   "cell_type": "code",
   "execution_count": 13,
   "id": "dde6e520",
   "metadata": {},
   "outputs": [
    {
     "name": "stdout",
     "output_type": "stream",
     "text": [
      "The Best Fit model parameters are,\n",
      "Coefficient of Income ->  -270.836\n",
      "Coefficient of Limit ->  355.26\n",
      "Coefficient of Rating ->  256.24\n",
      "Coefficient of Cards ->  20.834\n",
      "Coefficient of Age ->  -11.349\n",
      "Coefficient of Education ->  -2.896\n",
      "Coefficient of Gender ->  -5.024\n",
      "Coefficient of Student ->  126.818\n",
      "Coefficient of Married ->  4.145\n"
     ]
    }
   ],
   "source": [
    "# taking penalty = 1 as best fit tuning parameter\n",
    "\n",
    "best_penalty = 1\n",
    "\n",
    "best_beta = ridge_regression(standardize_data(X), centralize_data(Y), learn_rate, best_penalty, max_itr)\n",
    "print(\"The Best Fit model parameters are,\")\n",
    "for i in range(p):\n",
    "    print(\"Coefficient of {} ->  {}\".format(all_features[i], *best_beta[i]))"
   ]
  },
  {
   "cell_type": "markdown",
   "id": "f56a43f6",
   "metadata": {},
   "source": [
    "## Deliverable 6"
   ]
  },
  {
   "cell_type": "code",
   "execution_count": 14,
   "id": "c33de46c",
   "metadata": {},
   "outputs": [
    {
     "name": "stdout",
     "output_type": "stream",
     "text": [
      "Best fit penalty value ->  1.0\n",
      "\n",
      "The Best Fit model parameters are,\n",
      "Coefficient of Income ->  -270.621\n",
      "Coefficient of Limit ->  368.635\n",
      "Coefficient of Rating ->  242.299\n",
      "Coefficient of Cards ->  21.465\n",
      "Coefficient of Age ->  -11.235\n",
      "Coefficient of Education ->  -3.032\n",
      "Coefficient of Gender ->  -5.089\n",
      "Coefficient of Student ->  126.889\n",
      "Coefficient of Married ->  3.966\n"
     ]
    }
   ],
   "source": [
    "from sklearn.linear_model import RidgeCV\n",
    "\n",
    "clf = RidgeCV(alphas=penalty_values, cv=5).fit(standardize_data(X), centralize_data(Y))\n",
    "\n",
    "best_penatly_skl = clf.alpha_\n",
    "best_beta_skl = clf.coef_[0]\n",
    "\n",
    "print(\"Best fit penalty value -> \", best_penatly_skl)\n",
    "print()\n",
    "print(\"The Best Fit model parameters are,\")\n",
    "\n",
    "for i in range(p):\n",
    "    print(\"Coefficient of {} ->  {}\".format(all_features[i], np.round(best_beta_skl[i], 3)))"
   ]
  },
  {
   "cell_type": "markdown",
   "id": "b6dadb65",
   "metadata": {},
   "source": [
    "The cross-validation result of both manually implemented and library implemented ridge regression is same.\n",
    "Both of them determined penalty factor of 1 as the optimal tuning parameter.\n",
    "\n",
    "The Model Parameters of both implementations vary minimally. This variation can be associated to,\n",
    " - Different sampling technique employed.\n",
    " - Optimization algorithm used in SciKit Learn library.\n",
    " - Lesser iterations used in manual implementation.\n",
    " \n",
    "By comparing the results, we can say that Manually Implemented Algorithm performed decently good."
   ]
  }
 ],
 "metadata": {
  "kernelspec": {
   "display_name": "Python 3 (ipykernel)",
   "language": "python",
   "name": "python3"
  },
  "language_info": {
   "codemirror_mode": {
    "name": "ipython",
    "version": 3
   },
   "file_extension": ".py",
   "mimetype": "text/x-python",
   "name": "python",
   "nbconvert_exporter": "python",
   "pygments_lexer": "ipython3",
   "version": "3.9.12"
  }
 },
 "nbformat": 4,
 "nbformat_minor": 5
}
